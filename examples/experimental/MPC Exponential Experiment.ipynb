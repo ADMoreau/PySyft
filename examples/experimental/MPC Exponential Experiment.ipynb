{
 "cells": [
  {
   "cell_type": "code",
   "execution_count": 1,
   "metadata": {},
   "outputs": [],
   "source": [
    "import syft as sy\n",
    "import torch\n",
    "import torch.nn as nn\n",
    "import time\n",
    "import torch.autograd as autograd\n",
    "\n",
    "syft = sy \n",
    "\n",
    "hook = sy.TorchHook(torch)\n",
    "bob = sy.VirtualWorker(hook, id=\"bob\")\n",
    "alice = sy.VirtualWorker(hook, id=\"alice\")\n",
    "charlie = sy.VirtualWorker(hook, id=\"charlie\")\n",
    "james = sy.VirtualWorker(hook, id=\"james\")\n",
    "crypto_provider = james"
   ]
  },
  {
   "cell_type": "markdown",
   "metadata": {},
   "source": [
    "# Idea: decompose exponential to exponents of boolean"
   ]
  },
  {
   "cell_type": "markdown",
   "metadata": {},
   "source": [
    "Example with exp(5)"
   ]
  },
  {
   "cell_type": "code",
   "execution_count": 2,
   "metadata": {},
   "outputs": [],
   "source": [
    "e = torch.exp(torch.tensor(1.))"
   ]
  },
  {
   "cell_type": "code",
   "execution_count": 3,
   "metadata": {},
   "outputs": [
    {
     "data": {
      "text/plain": [
       "tensor(148.4131)"
      ]
     },
     "execution_count": 3,
     "metadata": {},
     "output_type": "execute_result"
    }
   ],
   "source": [
    "e**5"
   ]
  },
  {
   "cell_type": "code",
   "execution_count": 4,
   "metadata": {},
   "outputs": [
    {
     "data": {
      "text/plain": [
       "tensor(148.4131)"
      ]
     },
     "execution_count": 4,
     "metadata": {},
     "output_type": "execute_result"
    }
   ],
   "source": [
    " e**(1*2**2 + 0*2**1 + 1*2**0)"
   ]
  },
  {
   "cell_type": "markdown",
   "metadata": {},
   "source": [
    "Option 1"
   ]
  },
  {
   "cell_type": "code",
   "execution_count": 5,
   "metadata": {},
   "outputs": [
    {
     "data": {
      "text/plain": [
       "tensor(148.4131)"
      ]
     },
     "execution_count": 5,
     "metadata": {},
     "output_type": "execute_result"
    }
   ],
   "source": [
    "(e**1)**(2**2) * (e**0)**(2**1) * (e**1)**(2**0)"
   ]
  },
  {
   "cell_type": "markdown",
   "metadata": {},
   "source": [
    "Option 2"
   ]
  },
  {
   "cell_type": "code",
   "execution_count": 6,
   "metadata": {},
   "outputs": [
    {
     "data": {
      "text/plain": [
       "tensor(148.4131)"
      ]
     },
     "execution_count": 6,
     "metadata": {},
     "output_type": "execute_result"
    }
   ],
   "source": [
    "(e**(2**2) if 1 else 1)*(e**(2**1) if 0 else 1)*(e**(2**0) if 1 else 1)"
   ]
  },
  {
   "cell_type": "markdown",
   "metadata": {},
   "source": [
    "which can be easily written as a citcuit as well"
   ]
  },
  {
   "cell_type": "markdown",
   "metadata": {},
   "source": [
    "# POC\n",
    "We use Option 1\n",
    "\n",
    "here is a function to decompose values to binary:"
   ]
  },
  {
   "cell_type": "code",
   "execution_count": 7,
   "metadata": {},
   "outputs": [],
   "source": [
    "Q_BITS = 3\n",
    "def decompose(tensor):\n",
    "    \"\"\"decompose a tensor into its binary representation.\"\"\"\n",
    "    n_bits = Q_BITS\n",
    "    powers = torch.arange(n_bits)\n",
    "    if hasattr(tensor, \"child\") and isinstance(tensor.child, dict):\n",
    "        powers = powers.send(*list(tensor.child.keys()), **no_wrap)\n",
    "    for i in range(len(tensor.shape)):\n",
    "        powers = powers.unsqueeze(0)\n",
    "    tensor = tensor.unsqueeze(-1)\n",
    "    moduli = 2 ** powers\n",
    "    tensor = torch.fmod((tensor / moduli.type_as(tensor)), 2)\n",
    "    return tensor"
   ]
  },
  {
   "cell_type": "code",
   "execution_count": 8,
   "metadata": {},
   "outputs": [
    {
     "data": {
      "text/plain": [
       "tensor([[1, 0, 1]])"
      ]
     },
     "execution_count": 8,
     "metadata": {},
     "output_type": "execute_result"
    }
   ],
   "source": [
    "decompose(torch.tensor([5]))"
   ]
  },
  {
   "cell_type": "markdown",
   "metadata": {},
   "source": [
    "This is how to do OPtion 1 in plain pyTorch:"
   ]
  },
  {
   "cell_type": "code",
   "execution_count": 9,
   "metadata": {},
   "outputs": [
    {
     "name": "stdout",
     "output_type": "stream",
     "text": [
      "tensor([1, 0, 1])\n",
      "tensor([1, 2, 4])\n",
      "tensor(148.4131)\n"
     ]
    }
   ],
   "source": [
    "x = torch.tensor([5])\n",
    "x_bin = decompose(x)[0]\n",
    "print(x_bin)\n",
    "moduli = 2 ** torch.arange(Q_BITS)\n",
    "print(moduli)\n",
    "coeffs = (torch.exp(x_bin.float()) ** moduli.float())\n",
    "print(torch.prod(coeffs))"
   ]
  },
  {
   "cell_type": "markdown",
   "metadata": {},
   "source": [
    "Converts a bit b in Encrypted(Exp(b))"
   ]
  },
  {
   "cell_type": "code",
   "execution_count": 10,
   "metadata": {},
   "outputs": [
    {
     "name": "stdout",
     "output_type": "stream",
     "text": [
      "tensor([1.]) tensor([0.])\n",
      "tensor([2.7180])\n"
     ]
    }
   ],
   "source": [
    "def exp_bit(x):\n",
    "    # Takes a bit (0 or 1, here 0 for example)and share it in a *binary* field\n",
    "    #x = torch.tensor([0])\n",
    "    x_sh = x.share(alice, bob, crypto_provider=crypto_provider, field=2)\n",
    "    \n",
    "    # Access shares\n",
    "    x0, x1 = x_sh.child.child['alice'], x_sh.child.child['bob']\n",
    "    x0 = x0.float()\n",
    "    x1 = x1.float()\n",
    "    print(alice._objects[x0.id_at_location], bob._objects[x1.id_at_location])\n",
    "    \n",
    "    # Compute privately the wrap field bit, which decrypts to 1 iff x0+x1 >= 2  \n",
    "    x0_sh = x0.fix_precision().share(alice, bob, crypto_provider=charlie).get()\n",
    "    x1_sh = x1.fix_precision().share(alice, bob, crypto_provider=charlie).get()\n",
    "    wrap_field = x0_sh * x1_sh \n",
    "    \n",
    "    # Compute exp of shares\n",
    "    exp_x0, exp_x1 = [torch.exp(x0), torch.exp(x1)]\n",
    "    alice._objects[exp_x0.id_at_location], bob._objects[exp_x1.id_at_location]\n",
    "\n",
    "    # Share the exp of shares\n",
    "    exp_x0_sh = exp_x0.fix_precision().share(alice, bob, crypto_provider=charlie).get()\n",
    "    exp_x1_sh = exp_x1.fix_precision().share(alice, bob, crypto_provider=charlie).get()\n",
    "\n",
    "    # Apply exp(x0 + x1) =  exp(x0) *  exp(x1) formula + a wrapping correction if needed\n",
    "    one = torch.tensor([1.]).fix_precision()\n",
    "    inv_exp_field_size = torch.exp(-torch.tensor([2.])).fix_precision()\n",
    "    exp_sh = exp_x0_sh * exp_x1_sh * (wrap_field * (inv_exp_field_size - one) + one)\n",
    "\n",
    "    # Open and get 1.0\n",
    "    return exp_sh\n",
    "\n",
    "\n",
    "# Example\n",
    "x = torch.tensor([1])\n",
    "exp_x = exp_bit(x)\n",
    "print(exp_x.get().float_prec())"
   ]
  },
  {
   "cell_type": "markdown",
   "metadata": {},
   "source": [
    "## Clear text demo"
   ]
  },
  {
   "cell_type": "code",
   "execution_count": 11,
   "metadata": {},
   "outputs": [
    {
     "name": "stdout",
     "output_type": "stream",
     "text": [
      "tensor([[2.7183, 1.0000, 2.7183],\n",
      "        [2.7183, 2.7183, 1.0000],\n",
      "        [2.7183, 1.0000, 1.0000]])\n",
      "(tensor([2.7183, 2.7183, 2.7183]), tensor([1.0000, 2.7183, 1.0000]), tensor([2.7183, 1.0000, 1.0000]))\n",
      "tensor([[ 2.7183,  1.0000, 54.5981],\n",
      "        [ 2.7183,  7.3891,  1.0000],\n",
      "        [ 2.7183,  1.0000,  1.0000]])\n"
     ]
    },
    {
     "data": {
      "text/plain": [
       "tensor([148.4131,  20.0855,   2.7183])"
      ]
     },
     "execution_count": 11,
     "metadata": {},
     "output_type": "execute_result"
    }
   ],
   "source": [
    "x = torch.tensor([5, 3, 1])\n",
    "x_bin = decompose(x)\n",
    "\n",
    "exp_x_bin = torch.exp(x_bin.float())\n",
    "print(exp_x_bin)\n",
    "exp_x_bin_list = exp_x_bin.unbind(dim=1)\n",
    "print(exp_x_bin_list)\n",
    "\n",
    "moduli = 2 ** torch.arange(Q_BITS)\n",
    "moduli_list = map(lambda x:x.item(), moduli.unbind(dim=0))\n",
    "\n",
    "coeffs_list = [\n",
    "    xp_x_bin_item ** modulo\n",
    "    for xp_x_bin_item, modulo\n",
    "    in zip(exp_x_bin_list, moduli_list)\n",
    "]\n",
    "\n",
    "coeffs = torch.stack(coeffs_list).t()\n",
    "print(coeffs)\n",
    "\n",
    "torch.prod(coeffs, dim=1)"
   ]
  },
  {
   "cell_type": "markdown",
   "metadata": {},
   "source": [
    "## Encrypted Demo"
   ]
  },
  {
   "cell_type": "code",
   "execution_count": 12,
   "metadata": {},
   "outputs": [
    {
     "name": "stdout",
     "output_type": "stream",
     "text": [
      "bin tensor([[1, 0, 1],\n",
      "        [1, 1, 0],\n",
      "        [1, 0, 0]])\n",
      "tensor([[1., 1., 1.],\n",
      "        [1., 0., 0.],\n",
      "        [0., 1., 0.]]) tensor([[0., 1., 0.],\n",
      "        [0., 1., 0.],\n",
      "        [1., 1., 0.]])\n",
      "exp sh tensor([[2718,  997, 2718],\n",
      "        [2718, 2718, 1000],\n",
      "        [2718,  997, 1000]])\n",
      "exp_x tensor([147.4430,  20.0810,   2.7020])\n"
     ]
    }
   ],
   "source": [
    "x = torch.tensor([5, 3, 1])\n",
    "x_bin = decompose(x)\n",
    "print('bin', x_bin)\n",
    "exp_x_bin_sh = exp_bit(x_bin)\n",
    "print('exp sh', exp_x_bin_sh.child.child.virtual_get())\n",
    "exp_x_bin_list = torch.unbind(exp_x_bin_sh, dim=1)\n",
    "\n",
    "moduli = 2 ** torch.arange(Q_BITS)\n",
    "moduli_list = list(map(lambda x:x.fix_precision(precision_fractional=0), moduli.unbind(dim=0)))\n",
    "\n",
    "coeffs_list = [\n",
    "    xp_x_bin_item ** modulo\n",
    "    for xp_x_bin_item, modulo\n",
    "    in zip(exp_x_bin_list, moduli_list)\n",
    "]\n",
    "\n",
    "exp_x_sh = coeffs_list[0]\n",
    "for coeff in coeffs_list[1:]:\n",
    "    exp_x_sh = exp_x_sh * coeff\n",
    "\n",
    "print('exp_x', exp_x_sh.get().float_prec())"
   ]
  },
  {
   "cell_type": "code",
   "execution_count": null,
   "metadata": {},
   "outputs": [],
   "source": []
  }
 ],
 "metadata": {
  "kernelspec": {
   "display_name": "Python (Pysyft)",
   "language": "python",
   "name": "pysyft"
  },
  "language_info": {
   "codemirror_mode": {
    "name": "ipython",
    "version": 3
   },
   "file_extension": ".py",
   "mimetype": "text/x-python",
   "name": "python",
   "nbconvert_exporter": "python",
   "pygments_lexer": "ipython3",
   "version": "3.7.0"
  }
 },
 "nbformat": 4,
 "nbformat_minor": 2
}
